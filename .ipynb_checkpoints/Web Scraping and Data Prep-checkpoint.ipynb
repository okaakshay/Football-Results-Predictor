{
 "cells": [
  {
   "cell_type": "markdown",
   "metadata": {},
   "source": [
    "## Web scraping methodology\n",
    "\n",
    "SkySports website has a webpage which displays a list of all completed games of a selected season. Every game has the final score and the associated link attached to it. This link leads to the webpage of the individual game which has details about who played in the game and other stats. \n",
    "\n",
    "A function <b>- 'LookForMatches' -</b> is defined which loops through all the game page links on the main fixture list page. For every link, a spider function <b>- 'GetMatchData' -</b> is called which goes to the individual page and scrapes the team names, final result and lineups data. "
   ]
  },
  {
   "cell_type": "code",
   "execution_count": 99,
   "metadata": {},
   "outputs": [],
   "source": [
    "import numpy as np\n",
    "import pandas as pd \n",
    "import datetime as dt\n",
    "from bs4 import BeautifulSoup\n",
    "import requests\n",
    "import csv\n",
    "import time"
   ]
  },
  {
   "cell_type": "markdown",
   "metadata": {},
   "source": [
    "## Define functions to scrape game data"
   ]
  },
  {
   "cell_type": "code",
   "execution_count": 100,
   "metadata": {},
   "outputs": [],
   "source": [
    "#Specify season for scraping data\n",
    "\n",
    "season='2019-20'"
   ]
  },
  {
   "cell_type": "code",
   "execution_count": 101,
   "metadata": {},
   "outputs": [
    {
     "data": {
      "text/plain": [
       "'https://www.skysports.com/football/watford-vs-man-utd/teams/408159'"
      ]
     },
     "execution_count": 101,
     "metadata": {},
     "output_type": "execute_result"
    }
   ],
   "source": [
    "def AddTeamsToURL(URL):\n",
    "    \n",
    "    \"\"\" Navigate to the lineups section of the game page by adding 'teams' to the skysports link\"\"\"\n",
    "    \n",
    "    URL=URL.split('/')\n",
    "    URL.insert(5,'teams')\n",
    "    URL='/'.join(URL)\n",
    "    return URL\n"
   ]
  },
  {
   "cell_type": "code",
   "execution_count": 102,
   "metadata": {},
   "outputs": [],
   "source": [
    "def CalculateResult(scorelist):\n",
    "    \n",
    "    \"\"\" Calculate result of the game based on goals scored by both teams \"\"\"\n",
    "    \n",
    "    if scorelist[0]>scorelist[1]:\n",
    "        return 'HW'\n",
    "    elif scorelist[0]==scorelist[1]:\n",
    "        return 'D'\n",
    "    else:\n",
    "        return 'HL'"
   ]
  },
  {
   "cell_type": "code",
   "execution_count": 103,
   "metadata": {},
   "outputs": [],
   "source": [
    "def GetMatchData(URL,match_no,matchlist):\n",
    "    \n",
    "    \"\"\" Scrape required data from the game page \"\"\"\n",
    "    \n",
    "    URL=AddTeamsToURL(URL)\n",
    "    source = requests.get(URL).text\n",
    "    soup2 = BeautifulSoup(source, 'lxml')\n",
    "    \n",
    "    #Scrape home and away teams\n",
    "    teamlist=[]\n",
    "    for team in soup2.findAll('abbr',{\"class\": \"swap-text--bp10\"}):\n",
    "        teamlist.append(team['title'])\n",
    "        \n",
    "    #Scrape home and away goals  \n",
    "    scorelist=[]\n",
    "    for score in soup2.findAll('span',{\"class\": \"match-head__score\"}):\n",
    "        scorelist.append(int(score.text.strip()))\n",
    "        \n",
    "    #Calculate match results    \n",
    "    result=CalculateResult(scorelist)\n",
    "    \n",
    "    #Scrape player jersey numbers\n",
    "    i=1\n",
    "    for player in soup2.findAll('span',{\"class\": \"team-lineups__list-player-number\"}):\n",
    "        plyr=player.text.strip()\n",
    "        if i<=11:\n",
    "            matchlist.append([match_no,teamlist[0],teamlist[1],scorelist[0],scorelist[1],result,'Home',plyr,'Starter'])\n",
    "        elif i>11 and i<=18:\n",
    "            matchlist.append([match_no,teamlist[0],teamlist[1],scorelist[0],scorelist[1],result,'Home',plyr,'Sub'])\n",
    "        elif i>18 and i<=29:\n",
    "            matchlist.append([match_no,teamlist[0],teamlist[1],scorelist[0],scorelist[1],result,'Away',plyr,'Starter'])\n",
    "        else:\n",
    "            matchlist.append([match_no,teamlist[0],teamlist[1],scorelist[0],scorelist[1],result,'Away',plyr,'Sub'])\n",
    "        i+=1\n",
    "            \n",
    "    \n",
    "    "
   ]
  },
  {
   "cell_type": "code",
   "execution_count": 104,
   "metadata": {},
   "outputs": [],
   "source": [
    "def LookForMatches(FixturesURL,matchlist,NumGames=999):\n",
    "    \n",
    "    \"\"\" \n",
    "    Get game page URLs from Skysports main game listing page\n",
    "    \n",
    "    NumGames=Number of games to be pulled\n",
    "    \n",
    "    \"\"\"\n",
    "    \n",
    "    source = requests.get(FixturesURL).text\n",
    "    soup = BeautifulSoup(source, 'lxml')\n",
    "    i=1\n",
    "    for match in soup.findAll('a',{\"class\": \"matches__item matches__link\"}):      \n",
    "        matchURL=match['href']\n",
    "        GetMatchData(matchURL,i,matchlist)\n",
    "        i+=1\n",
    "        time.sleep(np.random.randint(4,high=12))\n",
    "        if i>NumGames:\n",
    "            break\n",
    "\n",
    "    "
   ]
  },
  {
   "cell_type": "markdown",
   "metadata": {},
   "source": [
    "## Scrape game data for one season"
   ]
  },
  {
   "cell_type": "code",
   "execution_count": 105,
   "metadata": {},
   "outputs": [],
   "source": [
    "def PlayerID(Home_Team,Away_Team,Player_Team,Player):\n",
    "    \n",
    "    \"\"\" Create player lookup ID by concatenating player's team and jersey numbers\"\"\"\n",
    "    \n",
    "    if Player_Team=='Home':\n",
    "        return Home_Team+\"#\"+str(Player)\n",
    "    else:\n",
    "        return Away_Team+\"#\"+str(Player)\n",
    "\n",
    "def DataforOneSeason(season,NumGames):\n",
    "    \n",
    "    \"\"\" Scrape Data from specified season and load it into a DataFrame\"\"\"\n",
    "    \n",
    "    matchlist=[] #matrix used to store all game data for one season\n",
    "\n",
    "    SkyURL='https://www.skysports.com/premier-league-results/'+season\n",
    "\n",
    "    LookForMatches(SkyURL,matchlist,NumGames) #Run function to scrape all data for specified season\n",
    "\n",
    "    # Required columns for final game dataset\n",
    "\n",
    "    cols=['Match_no','Home_Team','Away_Team','Home_Goals','Away_goals','Result','Player_team','Player','Type']\n",
    "\n",
    "    AllMatchData=pd.DataFrame(matchlist,columns=cols)\n",
    "\n",
    "    # Add player ID column to game dataset\n",
    "\n",
    "    AllMatchData['Player_ID']=AllMatchData.apply(lambda x:PlayerID(x['Home_Team'],x['Away_Team'],x['Player_team'],x['Player']),axis=1)\n",
    "    \n",
    "    return AllMatchData"
   ]
  },
  {
   "cell_type": "code",
   "execution_count": 106,
   "metadata": {},
   "outputs": [],
   "source": [
    "#AllMatchData.to_excel('AllEPLMatchData.xlsx')"
   ]
  },
  {
   "cell_type": "markdown",
   "metadata": {},
   "source": [
    "## Get FIFA data"
   ]
  },
  {
   "cell_type": "code",
   "execution_count": 107,
   "metadata": {},
   "outputs": [],
   "source": [
    "def GetFIFAdata(season):\n",
    "    \n",
    "    \"\"\"Calculate FIFA version corresponding to specified season\"\"\"\n",
    "\n",
    "    FIFAversion=season[:2]\n",
    "\n",
    "    FIFA_path='FIFA data\\players_{}.csv'.format(FIFAversion)\n",
    "\n",
    "    FifaData=pd.read_csv(FIFA_path)\n",
    "\n",
    "\n",
    "    #Specify clubs in English Premier League\n",
    "\n",
    "    EPLlist=['Arsenal','Bournemouth','Brighton and Hove Albion','Burnley','Cardiff City','Chelsea','Crystal Palace','Everton','Fulham','Huddersfield Town','Hull City','Leicester City','Liverpool','Middlesbrough','Manchester City','Manchester United','Newcastle United','Southampton','Tottenham Hotspur','Watford','West Ham United','Wolverhampton Wanderers','Stoke City','Swansea City','Sheffield United','West Bromwich Albion']\n",
    "\n",
    "\n",
    "    #Filter FIFA Data for EPL clubs\n",
    "\n",
    "    FifaData=FifaData[FifaData['club'].isin(EPLlist)]\n",
    "\n",
    "    #Restrict FIFA data to required fields\n",
    "\n",
    "    FifaData=FifaData[['short_name','overall','club','team_jersey_number','pace','shooting','passing','dribbling','defending','physic']]\n",
    "\n",
    "    #Create player ID field for future merge with game dataset\n",
    "\n",
    "    FifaData['Player_ID']=FifaData.club+'#'+FifaData.team_jersey_number.astype(int).astype(str)\n",
    "\n",
    "\n",
    "    #Fill any missing values with 0\n",
    "\n",
    "    FifaData.fillna(value=0,inplace=True)\n",
    "\n",
    "    #Re-order columns with Player ID as the first field\n",
    "\n",
    "    FifaData=FifaData[['Player_ID','short_name','club','overall','team_jersey_number','pace','shooting','passing','dribbling','defending','physic']]\n",
    "    \n",
    "    return FifaData"
   ]
  },
  {
   "cell_type": "markdown",
   "metadata": {},
   "source": [
    "## Combine game and FIFA data"
   ]
  },
  {
   "cell_type": "code",
   "execution_count": 108,
   "metadata": {},
   "outputs": [],
   "source": [
    "def CombineData(AllMatchData,FifaData):\n",
    "    \n",
    "    \"\"\" Merge the game data with FIFA player data \"\"\"\n",
    "    \n",
    "    CombinedData=AllMatchData.merge(FifaData,how='left',on='Player_ID')\n",
    "    \n",
    "    return CombinedData"
   ]
  },
  {
   "cell_type": "markdown",
   "metadata": {},
   "source": [
    "## Convert to format needed for machine learning input"
   ]
  },
  {
   "cell_type": "code",
   "execution_count": 109,
   "metadata": {},
   "outputs": [],
   "source": [
    "def ConvertToMLFormat(CombinedData,PlayerType='Starter'):\n",
    "\n",
    "    #Filter for starter or sub\n",
    "\n",
    "    CombinedData=CombinedData[CombinedData['Type']==PlayerType]\n",
    "\n",
    "    # Sum up attributes for every team\n",
    "\n",
    "    CombinedData=CombinedData.groupby(by=['Match_no','Player_team','Result'],as_index=False).sum()\n",
    "    CombinedData.head()\n",
    "\n",
    "    #Filter for required columns\n",
    "\n",
    "    CombinedData=CombinedData[['Match_no', 'Result','Player_team','overall','pace', 'shooting', 'passing', 'dribbling','defending', 'physic']]\n",
    "\n",
    "    # Divide Dataframe into Home and Away\n",
    "\n",
    "    CombinedData_H=CombinedData[CombinedData['Player_team']=='Home']\n",
    "\n",
    "    CombinedData_A=CombinedData[CombinedData['Player_team']=='Away']\n",
    "\n",
    "    CombinedData_H.reset_index(drop=True,inplace=True)\n",
    "\n",
    "    CombinedData_A.reset_index(drop=True,inplace=True)\n",
    "\n",
    "    CombinedData_A.head()\n",
    "\n",
    "    # Create Dataframe depicting difference in player attributes between Home and Away\n",
    "\n",
    "    Match_Qual_Diff=CombinedData_H.iloc[:,-7:].subtract(CombinedData_A.iloc[:,-7:])\n",
    "\n",
    "    #Add Result to the attribute difference Dataframe\n",
    "\n",
    "    Match_Qual_Diff['Result']=CombinedData_H['Result'].values\n",
    "\n",
    "    return Match_Qual_Diff"
   ]
  },
  {
   "cell_type": "markdown",
   "metadata": {},
   "source": [
    "## Run all functions for specified season"
   ]
  },
  {
   "cell_type": "code",
   "execution_count": 110,
   "metadata": {},
   "outputs": [],
   "source": [
    "AllMatchData=DataforOneSeason(season,20) #Get web scraped lineups for specified number of games and season"
   ]
  },
  {
   "cell_type": "code",
   "execution_count": 111,
   "metadata": {},
   "outputs": [],
   "source": [
    "FifaData=GetFIFAdata(season) #Get specified FIFA version player data"
   ]
  },
  {
   "cell_type": "code",
   "execution_count": 112,
   "metadata": {},
   "outputs": [],
   "source": [
    "CombinedData=CombineData(AllMatchData,FifaData) #Combine game lineup and FIFA data"
   ]
  },
  {
   "cell_type": "code",
   "execution_count": 113,
   "metadata": {},
   "outputs": [],
   "source": [
    "Match_Qual_Diff=ConvertToMLFormat(CombinedData,'Starter') #Create the difference in player attributes dataframe"
   ]
  },
  {
   "cell_type": "code",
   "execution_count": 114,
   "metadata": {},
   "outputs": [],
   "source": [
    "Match_Qual_Diff.to_excel('{} EPL ML data.xlsx'.format(season))"
   ]
  },
  {
   "cell_type": "code",
   "execution_count": null,
   "metadata": {},
   "outputs": [],
   "source": []
  }
 ],
 "metadata": {
  "kernelspec": {
   "display_name": "Python 3",
   "language": "python",
   "name": "python3"
  },
  "language_info": {
   "codemirror_mode": {
    "name": "ipython",
    "version": 3
   },
   "file_extension": ".py",
   "mimetype": "text/x-python",
   "name": "python",
   "nbconvert_exporter": "python",
   "pygments_lexer": "ipython3",
   "version": "3.7.3"
  }
 },
 "nbformat": 4,
 "nbformat_minor": 2
}
