{
 "cells": [
  {
   "cell_type": "code",
   "execution_count": 1,
   "metadata": {},
   "outputs": [],
   "source": [
    "import pandas as pd\n",
    "import numpy as np\n",
    "import matplotlib.pyplot as plt\n",
    "import tensorflow as tf\n",
    "import seaborn as sns"
   ]
  },
  {
   "cell_type": "code",
   "execution_count": 2,
   "metadata": {},
   "outputs": [],
   "source": [
    "EPLData=pd.read_excel('4 Seasons 2016-20 EPL ML Data.xlsx')"
   ]
  },
  {
   "cell_type": "code",
   "execution_count": 3,
   "metadata": {},
   "outputs": [],
   "source": [
    "#Function which uses simulation to generate accuracy of a model given a predictive distribution and actual distribution \n",
    "\n",
    "def NaiveBenchmark(NaiveProb_HW,NaiveProb_D,ActualResultDist):\n",
    "    Results=['HW','D','HL']\n",
    "    accuracy=[]\n",
    "    NaiveProb_HL=1-NaiveProb_HW-NaiveProb_D\n",
    "    for i in range(10000):\n",
    "        actual=np.random.choice(Results,p=[NaiveProb_HW,NaiveProb_D,NaiveProb_HL])\n",
    "        predicted=np.random.choice(Results,p=ActualResultDist)\n",
    "        if predicted==actual:\n",
    "            accuracy.append(1)\n",
    "        else:\n",
    "            accuracy.append(0)\n",
    "    return sum(accuracy)/len(accuracy)\n",
    "            "
   ]
  },
  {
   "cell_type": "code",
   "execution_count": 4,
   "metadata": {},
   "outputs": [],
   "source": [
    "#Generate accuracy of Naive model - Predict each result 1/3rd of the time\n",
    "\n",
    "ModelAccuracies={}\n",
    "\n",
    "ActualResultDist=EPLData['Results'].value_counts()/len(EPLData['Results'].values)\n",
    "\n",
    "ModelAccuracies['NaiveBenchmark']=NaiveBenchmark(0.33,0.33,ActualResultDist.values)"
   ]
  },
  {
   "cell_type": "markdown",
   "metadata": {},
   "source": [
    "##             Data Exploration"
   ]
  },
  {
   "cell_type": "code",
   "execution_count": 5,
   "metadata": {},
   "outputs": [
    {
     "data": {
      "text/plain": [
       "Text(0.5, 1.0, 'Distribution of Game Results')"
      ]
     },
     "execution_count": 5,
     "metadata": {},
     "output_type": "execute_result"
    },
    {
     "data": {
      "image/png": "[encoded data removed]",
      "text/plain": [
       "<Figure size 432x288 with 1 Axes>"
      ]
     },
     "metadata": {
      "needs_background": "light"
     },
     "output_type": "display_data"
    }
   ],
   "source": [
    "# Generate Result distribution plot\n",
    "\n",
    "my_pal = {\"HW\":\"green\", \"HL\": \"red\", \"D\":\"yellow\"}\n",
    "\n",
    "fig=sns.countplot(EPLData['Results'],palette=my_pal)\n",
    "plt.xlabel(\"Results\")\n",
    "plt.ylabel(\"Number of Games\")\n",
    "plt.title(\"Distribution of Game Results\")"
   ]
  },
  {
   "cell_type": "code",
   "execution_count": 6,
   "metadata": {},
   "outputs": [
    {
     "data": {
      "image/png": "[encoded data removed]",
      "text/plain": [
       "<Figure size 432x288 with 1 Axes>"
      ]
     },
     "metadata": {
      "needs_background": "light"
     },
     "output_type": "display_data"
    }
   ],
   "source": [
    "# Generate boxplot to see how Results vary with the Home team \"overall\" rating delta\n",
    "\n",
    "sns.boxplot(EPLData['Results'],EPLData['overall'],palette=my_pal)\n",
    "plt.xlabel(\"Results\")\n",
    "plt.ylabel(\"Home team overall rating delta\")\n",
    "plt.show()"
   ]
  },
  {
   "cell_type": "code",
   "execution_count": 7,
   "metadata": {},
   "outputs": [],
   "source": [
    "# Create two buckets - Home win and No win (draw or loss)\n",
    "# Use for future scenario\n",
    "\n",
    "# EPLData.replace(['D','HL'],'NoWin',inplace=True)\n"
   ]
  },
  {
   "cell_type": "markdown",
   "metadata": {},
   "source": [
    "## Prepare data for machine learning input format"
   ]
  },
  {
   "cell_type": "code",
   "execution_count": 8,
   "metadata": {},
   "outputs": [],
   "source": [
    "# Create predictor features and target class vectors\n",
    "\n",
    "X=EPLData.drop(columns=['Results'])\n",
    "\n",
    "Y=EPLData['Results']"
   ]
  },
  {
   "cell_type": "code",
   "execution_count": 9,
   "metadata": {},
   "outputs": [],
   "source": [
    "# Standardize the features\n",
    "\n",
    "from sklearn.preprocessing import RobustScaler\n",
    "Scaler=RobustScaler()\n",
    "X=Scaler.fit_transform(X)\n",
    "\n"
   ]
  },
  {
   "cell_type": "code",
   "execution_count": 10,
   "metadata": {},
   "outputs": [],
   "source": [
    "#Using 2/3rd - 1/3rd as training set - test set ratio \n",
    "\n",
    "from sklearn.model_selection import train_test_split\n",
    "\n",
    "X_train, X_test, y_train, y_test = train_test_split(X, Y, test_size=0.33, random_state=1)"
   ]
  },
  {
   "cell_type": "markdown",
   "metadata": {},
   "source": [
    "## Train machine learning models"
   ]
  },
  {
   "cell_type": "code",
   "execution_count": 11,
   "metadata": {},
   "outputs": [
    {
     "name": "stdout",
     "output_type": "stream",
     "text": [
      "              precision    recall  f1-score   support\n",
      "\n",
      "           D       0.33      0.27      0.30        59\n",
      "          HL       0.51      0.64      0.57        77\n",
      "          HW       0.58      0.54      0.56       115\n",
      "\n",
      "   micro avg       0.51      0.51      0.51       251\n",
      "   macro avg       0.47      0.48      0.47       251\n",
      "weighted avg       0.50      0.51      0.50       251\n",
      "\n",
      "0.5059760956175299\n"
     ]
    }
   ],
   "source": [
    "# Logistic Regeression\n",
    "\n",
    "\n",
    "from sklearn.linear_model import LogisticRegression\n",
    "\n",
    "LGmodel=LogisticRegression(class_weight=\"balanced\",multi_class='auto',solver='lbfgs')\n",
    "\n",
    "LGmodel.fit(X_train,y_train)\n",
    "\n",
    "predictions=LGmodel.predict(X_test)\n",
    "\n",
    "from sklearn.metrics import classification_report\n",
    "\n",
    "print(classification_report(y_test,predictions))\n",
    "\n",
    "from sklearn.metrics import accuracy_score\n",
    "print(accuracy_score(y_test,predictions))\n",
    "\n",
    "ModelAccuracies['Logistic Regression']=accuracy_score(y_test,predictions)"
   ]
  },
  {
   "cell_type": "code",
   "execution_count": 12,
   "metadata": {},
   "outputs": [
    {
     "name": "stdout",
     "output_type": "stream",
     "text": [
      "              precision    recall  f1-score   support\n",
      "\n",
      "           D       0.24      0.19      0.21        59\n",
      "          HL       0.45      0.45      0.45        77\n",
      "          HW       0.50      0.55      0.52       115\n",
      "\n",
      "   micro avg       0.43      0.43      0.43       251\n",
      "   macro avg       0.39      0.40      0.39       251\n",
      "weighted avg       0.42      0.43      0.43       251\n",
      "\n",
      "0.4342629482071713\n"
     ]
    }
   ],
   "source": [
    "# Random Forests\n",
    "\n",
    "from sklearn.ensemble import RandomForestClassifier\n",
    "RFmodel=RandomForestClassifier(n_estimators=10,class_weight=\"balanced\")\n",
    "RFmodel.fit(X_train,y_train)\n",
    "predictions=RFmodel.predict(X_test)\n",
    "\n",
    "from sklearn.metrics import classification_report\n",
    "print(classification_report(y_test,predictions))\n",
    "\n",
    "from sklearn.metrics import accuracy_score\n",
    "print(accuracy_score(y_test,predictions))\n",
    "\n",
    "ModelAccuracies['Random Forest']=accuracy_score(y_test,predictions)"
   ]
  },
  {
   "cell_type": "code",
   "execution_count": 13,
   "metadata": {},
   "outputs": [
    {
     "name": "stdout",
     "output_type": "stream",
     "text": [
      "              precision    recall  f1-score   support\n",
      "\n",
      "           D       0.27      0.44      0.33        59\n",
      "          HL       0.57      0.52      0.54        77\n",
      "          HW       0.63      0.45      0.53       115\n",
      "\n",
      "   micro avg       0.47      0.47      0.47       251\n",
      "   macro avg       0.49      0.47      0.47       251\n",
      "weighted avg       0.52      0.47      0.49       251\n",
      "\n",
      "0.4701195219123506\n"
     ]
    },
    {
     "name": "stderr",
     "output_type": "stream",
     "text": [
      "C:\\Users\\okaak\\Anaconda3\\lib\\site-packages\\sklearn\\svm\\base.py:196: FutureWarning: The default value of gamma will change from 'auto' to 'scale' in version 0.22 to account better for unscaled features. Set gamma explicitly to 'auto' or 'scale' to avoid this warning.\n",
      "  \"avoid this warning.\", FutureWarning)\n"
     ]
    }
   ],
   "source": [
    "#Support Vector Machines\n",
    "\n",
    "from sklearn.svm import SVC\n",
    "SVMmodel=SVC(class_weight=\"balanced\")\n",
    "SVMmodel.fit(X_train,y_train)\n",
    "predictions=SVMmodel.predict(X_test)\n",
    "\n",
    "from sklearn.metrics import classification_report\n",
    "print(classification_report(y_test,predictions))\n",
    "\n",
    "from sklearn.metrics import accuracy_score\n",
    "print(accuracy_score(y_test,predictions))\n",
    "\n",
    "ModelAccuracies['SVM']=accuracy_score(y_test,predictions)"
   ]
  },
  {
   "cell_type": "code",
   "execution_count": 14,
   "metadata": {},
   "outputs": [
    {
     "name": "stdout",
     "output_type": "stream",
     "text": [
      "              precision    recall  f1-score   support\n",
      "\n",
      "           D       0.33      0.10      0.16        59\n",
      "          HL       0.50      0.68      0.57        77\n",
      "          HW       0.59      0.65      0.62       115\n",
      "\n",
      "   micro avg       0.53      0.53      0.53       251\n",
      "   macro avg       0.47      0.48      0.45       251\n",
      "weighted avg       0.50      0.53      0.49       251\n",
      "\n",
      "0.5298804780876494\n"
     ]
    }
   ],
   "source": [
    "# Naive Bayes\n",
    "\n",
    "from sklearn.naive_bayes import GaussianNB\n",
    "NaiveBayesmodel=GaussianNB()\n",
    "NaiveBayesmodel.fit(X_train,y_train)\n",
    "predictions=NaiveBayesmodel.predict(X_test)\n",
    "\n",
    "from sklearn.metrics import classification_report\n",
    "print(classification_report(y_test,predictions))\n",
    "\n",
    "from sklearn.metrics import accuracy_score\n",
    "print(accuracy_score(y_test,predictions))\n",
    "\n",
    "ModelAccuracies['Naive Bayes']=accuracy_score(y_test,predictions)"
   ]
  },
  {
   "cell_type": "markdown",
   "metadata": {},
   "source": [
    "## Train Neural Network\n",
    "\n"
   ]
  },
  {
   "cell_type": "code",
   "execution_count": 15,
   "metadata": {},
   "outputs": [],
   "source": [
    "# Convert target classes to numerical type for Neural network training\n",
    "\n",
    "y_train.replace(['HW','D','HL'],[0,1,2],inplace=True)\n",
    "y_test.replace(['HW','D','HL'],[0,1,2],inplace=True)"
   ]
  },
  {
   "cell_type": "code",
   "execution_count": 16,
   "metadata": {},
   "outputs": [
    {
     "name": "stdout",
     "output_type": "stream",
     "text": [
      "[0.52589643, 0.5458167, 0.56573707, 0.5378486, 0.5458167, 0.55378485, 0.561753, 0.52589643, 0.55776894, 0.52988046]\n",
      "0.5450199186801911\n"
     ]
    }
   ],
   "source": [
    "NNAcurracies=[] ## List to store Neural Network accuracies for multiple runs\n",
    "\n",
    "for i in range(10):\n",
    "    \n",
    "    #Create Neural network with one Hidden layers\n",
    "\n",
    "    model = tf.keras.models.Sequential()  \n",
    "    model.add(tf.keras.layers.Flatten())  \n",
    "    model.add(tf.keras.layers.Dense(20, activation=tf.nn.relu))  #Hidden layer\n",
    "    model.add(tf.keras.layers.Dense(3, activation=tf.nn.softmax)) #Output layer\n",
    "\n",
    "    #Compile model using the Adam optimiser\n",
    "\n",
    "    model.compile(optimizer='adam', loss='sparse_categorical_crossentropy',metrics=['accuracy']) \n",
    "\n",
    "    #Train the model\n",
    "\n",
    "    model.fit(X_train, y_train.values, epochs=20,verbose=0)  \n",
    "\n",
    "    #Test NN model on out of sample data\n",
    "\n",
    "    val_loss, val_acc = model.evaluate(X_test, y_test.values,verbose=0)  \n",
    "    NNAcurracies.append(val_acc)\n",
    "\n",
    "\n",
    "print(NNAcurracies)\n",
    "print(sum(NNAcurracies)/len(NNAcurracies))\n",
    "\n",
    "#  Record average accuracy of Neural network runs\n",
    "\n",
    "ModelAccuracies['Neural Network']=sum(NNAcurracies)/len(NNAcurracies)"
   ]
  },
  {
   "cell_type": "markdown",
   "metadata": {},
   "source": [
    "## Result Evaluation and Benchmarking "
   ]
  },
  {
   "cell_type": "code",
   "execution_count": 17,
   "metadata": {},
   "outputs": [],
   "source": [
    "# Bookmaker odds from last 9 years data\n",
    "\n",
    "ModelAccuracies['Betting Co Odds']=0.54"
   ]
  },
  {
   "cell_type": "code",
   "execution_count": 18,
   "metadata": {},
   "outputs": [
    {
     "data": {
      "image/png": "[encoded data removed]",
      "text/plain": [
       "<Figure size 864x360 with 1 Axes>"
      ]
     },
     "metadata": {
      "needs_background": "light"
     },
     "output_type": "display_data"
    }
   ],
   "source": [
    "#Plot accuracy scores of different models\n",
    "\n",
    "font = {'family': 'calibri',\n",
    "        'weight': 'bold',\n",
    "        'size': 14,\n",
    "        }\n",
    "\n",
    "fonttitle = {'family': 'calibri',\n",
    "        'weight': 'bold',\n",
    "        'size': 18,\n",
    "        }\n",
    "fig=plt.figure(figsize=(12,5))\n",
    "plt.bar(ModelAccuracies.keys(),ModelAccuracies.values())\n",
    "plt.xlabel(\"Model Names\",fontdict=font)\n",
    "plt.ylabel(\"Accuracy Scores\",fontdict=font)\n",
    "plt.title(\"Model Accuracies\",fontdict=fonttitle)\n",
    "plt.xticks\n",
    "plt.tight_layout()\n",
    "plt.show()\n"
   ]
  },
  {
   "cell_type": "code",
   "execution_count": 19,
   "metadata": {},
   "outputs": [
    {
     "data": {
      "text/plain": [
       "{'NaiveBenchmark': 0.3343,\n",
       " 'Logistic Regression': 0.5059760956175299,\n",
       " 'Random Forest': 0.4342629482071713,\n",
       " 'SVM': 0.4701195219123506,\n",
       " 'Naive Bayes': 0.5298804780876494,\n",
       " 'Neural Network': 0.5450199186801911,\n",
       " 'Betting Co Odds': 0.54}"
      ]
     },
     "execution_count": 19,
     "metadata": {},
     "output_type": "execute_result"
    }
   ],
   "source": [
    "ModelAccuracies"
   ]
  },
  {
   "cell_type": "code",
   "execution_count": null,
   "metadata": {},
   "outputs": [],
   "source": []
  }
 ],
 "metadata": {
  "kernelspec": {
   "display_name": "Python 3",
   "language": "python",
   "name": "python3"
  },
  "language_info": {
   "codemirror_mode": {
    "name": "ipython",
    "version": 3
   },
   "file_extension": ".py",
   "mimetype": "text/x-python",
   "name": "python",
   "nbconvert_exporter": "python",
   "pygments_lexer": "ipython3",
   "version": "3.7.3"
  }
 },
 "nbformat": 4,
 "nbformat_minor": 2
}
